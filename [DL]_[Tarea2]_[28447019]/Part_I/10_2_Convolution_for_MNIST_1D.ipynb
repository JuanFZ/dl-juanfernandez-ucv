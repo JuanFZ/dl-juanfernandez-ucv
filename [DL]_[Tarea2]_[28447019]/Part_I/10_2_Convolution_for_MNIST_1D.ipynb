{
  "cells": [
    {
      "cell_type": "markdown",
      "metadata": {
        "colab_type": "text",
        "id": "view-in-github"
      },
      "source": [
        "<a href=\"https://colab.research.google.com/github/udlbook/udlbook/blob/main/Notebooks/Chap10/10_2_Convolution_for_MNIST_1D.ipynb\" target=\"_parent\"><img src=\"https://colab.research.google.com/assets/colab-badge.svg\" alt=\"Open In Colab\"/></a>"
      ]
    },
    {
      "cell_type": "markdown",
      "metadata": {
        "id": "t9vk9Elugvmi"
      },
      "source": [
        "# **Notebook 10.2: Convolution for MNIST-1D**\n",
        "\n",
        "This notebook investigates a 1D convolutional network for MNIST-1D as in figure 10.7 and 10.8a.\n",
        "\n",
        "Work through the cells below, running each cell in turn. In various places you will see the words \"TODO\". Follow the instructions at these places and make predictions about what is going to happen or write code to complete the functions.\n",
        "\n",
        "Contact me at udlbookmail@gmail.com if you find any mistakes or have any suggestions.\n",
        "\n"
      ]
    },
    {
      "cell_type": "code",
      "execution_count": 17,
      "metadata": {
        "id": "D5yLObtZCi9J"
      },
      "outputs": [
        {
          "name": "stdout",
          "output_type": "stream",
          "text": [
            "Cloning into 'mnist1d'...\n",
            "remote: Enumerating objects: 541, done.\u001b[K\n",
            "remote: Counting objects: 100% (76/76), done.\u001b[K\n",
            "remote: Compressing objects: 100% (10/10), done.\u001b[K\n",
            "remote: Total 541 (delta 67), reused 66 (delta 66), pack-reused 465 (from 1)\u001b[K\n",
            "Receiving objects: 100% (541/541), 14.54 MiB | 1.45 MiB/s, done.\n",
            "Resolving deltas: 100% (259/259), done.\n"
          ]
        }
      ],
      "source": [
        "!git clone https://github.com/greydanus/mnist1d"
      ]
    },
    {
      "cell_type": "code",
      "execution_count": 28,
      "metadata": {
        "id": "YrXWAH7sUWvU"
      },
      "outputs": [],
      "source": [
        "import numpy as np\n",
        "import os\n",
        "import torch, torch.nn as nn\n",
        "from torch.utils.data import TensorDataset, DataLoader\n",
        "from torch.optim.lr_scheduler import StepLR\n",
        "import matplotlib.pyplot as plt\n",
        "import mnist1d\n",
        "import random"
      ]
    },
    {
      "cell_type": "code",
      "execution_count": 29,
      "metadata": {
        "id": "twI72ZCrCt5z"
      },
      "outputs": [
        {
          "name": "stdout",
          "output_type": "stream",
          "text": [
            "Successfully loaded data from ./mnist1d_data.pkl\n",
            "Examples in training set: 4000\n",
            "Examples in test set: 1000\n",
            "Length of each example: 40\n"
          ]
        }
      ],
      "source": [
        "args = mnist1d.data.get_dataset_args()\n",
        "data = mnist1d.data.get_dataset(args, path='./mnist1d_data.pkl', download=False, regenerate=False)\n",
        "\n",
        "# The training and test input and outputs are in\n",
        "# data['x'], data['y'], data['x_test'], and data['y_test']\n",
        "print(\"Examples in training set: {}\".format(len(data['y'])))\n",
        "print(\"Examples in test set: {}\".format(len(data['y_test'])))\n",
        "print(\"Length of each example: {}\".format(data['x'].shape[-1]))"
      ]
    },
    {
      "cell_type": "code",
      "execution_count": 30,
      "metadata": {
        "id": "8bKADvLHbiV5"
      },
      "outputs": [
        {
          "name": "stdout",
          "output_type": "stream",
          "text": [
            "Train data: 4000 examples (columns), each of which has 40 dimensions (rows)\n",
            "Validation data: 1000 examples (columns), each of which has 40 dimensions (rows)\n"
          ]
        }
      ],
      "source": [
        "# Load in the data\n",
        "train_data_x = data['x'].transpose()\n",
        "train_data_y = data['y']\n",
        "val_data_x = data['x_test'].transpose()\n",
        "val_data_y = data['y_test']\n",
        "# Print out sizes\n",
        "print(\"Train data: %d examples (columns), each of which has %d dimensions (rows)\"%((train_data_x.shape[1],train_data_x.shape[0])))\n",
        "print(\"Validation data: %d examples (columns), each of which has %d dimensions (rows)\"%((val_data_x.shape[1],val_data_x.shape[0])))"
      ]
    },
    {
      "cell_type": "markdown",
      "metadata": {
        "id": "_sFvRDGrl4qe"
      },
      "source": [
        "Define the network"
      ]
    },
    {
      "cell_type": "code",
      "execution_count": null,
      "metadata": {
        "id": "FslroPJJffrh"
      },
      "outputs": [],
      "source": [
        "# There are 40 input dimensions and 10 output dimensions for this data\n",
        "# The inputs correspond to the 40 offsets in the MNIST1D template.\n",
        "D_i = 40\n",
        "# The outputs correspond to the 10 digits\n",
        "D_o = 10\n",
        "\n",
        "\n",
        "# TODO Create a model with the following layers\n",
        "# 1. Convolutional layer, (input=length 40 and 1 channel, kernel size 3, stride 2, padding=\"valid\", 15 output channels )\n",
        "# 2. ReLU\n",
        "# 3. Convolutional layer, (input=length 19 and 15 channels, kernel size 3, stride 2, padding=\"valid\", 15 output channels )\n",
        "# 4. ReLU\n",
        "# 5. Convolutional layer, (input=length 9 and 15 channels, kernel size 3, stride 2, padding=\"valid\", 15 output channels)\n",
        "# 6. ReLU\n",
        "# 7. Flatten (converts 4x15) to length 60\n",
        "# 8. Linear layer (input size = 60, output size = 10)\n",
        "# References:\n",
        "# https://pytorch.org/docs/1.13/generated/torch.nn.Conv1d.html?highlight=conv1d#torch.nn.Conv1d\n",
        "# https://pytorch.org/docs/stable/generated/torch.nn.Flatten.html\n",
        "# https://pytorch.org/docs/1.13/generated/torch.nn.Linear.html?highlight=linear#torch.nn.Linear\n",
        "\n",
        "# NOTE THAT THE CONVOLUTIONAL LAYERS NEED TO TAKE THE NUMBER OF INPUT CHANNELS AS A PARAMETER\n",
        "# AND NOT THE INPUT SIZE.\n",
        "\n",
        "# Replace the following function:\n",
        "model = nn.Sequential(\n",
        "    nn.Conv1d(in_channels=1, out_channels=15, kernel_size=3, stride=2, padding=0),  # Capa 1\n",
        "    nn.ReLU(),\n",
        "    nn.Conv1d(in_channels=15, out_channels=15, kernel_size=3, stride=2, padding=0), # Capa 2\n",
        "    nn.ReLU(),\n",
        "    nn.Conv1d(in_channels=15, out_channels=15, kernel_size=3, stride=2, padding=0), # Capa 3\n",
        "    nn.ReLU(),\n",
        "    nn.Flatten(),                         # Convierte 4x15 = 60 a vector plano\n",
        "    nn.Linear(60, 10)                     # Capa lineal final para clasificación\n",
        ")\n"
      ]
    },
    {
      "cell_type": "code",
      "execution_count": 33,
      "metadata": {
        "id": "YgLaex1pfhqz"
      },
      "outputs": [],
      "source": [
        "# He initialization of weights\n",
        "def weights_init(layer_in):\n",
        "  if isinstance(layer_in, nn.Linear):\n",
        "    nn.init.kaiming_uniform_(layer_in.weight)\n",
        "    layer_in.bias.data.fill_(0.0)"
      ]
    },
    {
      "cell_type": "code",
      "execution_count": 34,
      "metadata": {
        "id": "NYw8I_3mmX5c"
      },
      "outputs": [
        {
          "name": "stdout",
          "output_type": "stream",
          "text": [
            "Epoch     0, train loss 2.031353, train error 78.53,  val loss 2.051634, percent error 80.00\n",
            "Epoch     1, train loss 1.480380, train error 59.72,  val loss 1.489308, percent error 61.50\n",
            "Epoch     2, train loss 1.382306, train error 57.65,  val loss 1.396669, percent error 59.30\n",
            "Epoch     3, train loss 1.213407, train error 50.08,  val loss 1.238282, percent error 52.80\n",
            "Epoch     4, train loss 1.280963, train error 51.28,  val loss 1.313956, percent error 53.50\n",
            "Epoch     5, train loss 1.059651, train error 42.97,  val loss 1.102317, percent error 45.70\n",
            "Epoch     6, train loss 0.964299, train error 39.53,  val loss 1.011301, percent error 41.70\n",
            "Epoch     7, train loss 0.922251, train error 36.70,  val loss 0.978314, percent error 39.20\n",
            "Epoch     8, train loss 0.831946, train error 33.18,  val loss 0.885253, percent error 36.30\n",
            "Epoch     9, train loss 0.789553, train error 32.15,  val loss 0.860168, percent error 35.40\n",
            "Epoch    10, train loss 0.718000, train error 27.62,  val loss 0.780738, percent error 29.30\n",
            "Epoch    11, train loss 0.721223, train error 28.12,  val loss 0.796662, percent error 32.10\n",
            "Epoch    12, train loss 0.561207, train error 20.93,  val loss 0.645055, percent error 23.70\n",
            "Epoch    13, train loss 0.511115, train error 19.38,  val loss 0.595446, percent error 23.20\n",
            "Epoch    14, train loss 0.479494, train error 17.50,  val loss 0.578349, percent error 19.20\n",
            "Epoch    15, train loss 0.440887, train error 16.10,  val loss 0.531680, percent error 20.40\n",
            "Epoch    16, train loss 0.480629, train error 17.47,  val loss 0.607836, percent error 20.70\n",
            "Epoch    17, train loss 0.350482, train error 12.38,  val loss 0.448565, percent error 17.10\n",
            "Epoch    18, train loss 0.409252, train error 13.70,  val loss 0.536208, percent error 16.50\n",
            "Epoch    19, train loss 0.300817, train error 10.30,  val loss 0.418445, percent error 14.50\n",
            "Epoch    20, train loss 0.226708, train error 7.60,  val loss 0.391286, percent error 11.80\n",
            "Epoch    21, train loss 0.232722, train error 7.78,  val loss 0.411712, percent error 13.00\n",
            "Epoch    22, train loss 0.196048, train error 6.57,  val loss 0.369193, percent error 11.30\n",
            "Epoch    23, train loss 0.193753, train error 6.75,  val loss 0.375003, percent error 11.50\n",
            "Epoch    24, train loss 0.176105, train error 5.62,  val loss 0.362571, percent error 11.30\n",
            "Epoch    25, train loss 0.163750, train error 5.07,  val loss 0.362645, percent error 11.10\n",
            "Epoch    26, train loss 0.184390, train error 6.97,  val loss 0.395341, percent error 12.30\n",
            "Epoch    27, train loss 0.152881, train error 4.90,  val loss 0.337093, percent error 10.50\n",
            "Epoch    28, train loss 0.144465, train error 4.75,  val loss 0.340860, percent error 10.50\n",
            "Epoch    29, train loss 0.150280, train error 4.78,  val loss 0.369169, percent error 10.80\n",
            "Epoch    30, train loss 0.129987, train error 3.90,  val loss 0.333047, percent error 9.80\n",
            "Epoch    31, train loss 0.124422, train error 3.88,  val loss 0.368006, percent error 9.80\n",
            "Epoch    32, train loss 0.127401, train error 4.12,  val loss 0.346314, percent error 10.20\n",
            "Epoch    33, train loss 0.124923, train error 4.12,  val loss 0.349456, percent error 9.80\n",
            "Epoch    34, train loss 0.120683, train error 4.07,  val loss 0.378934, percent error 10.10\n",
            "Epoch    35, train loss 0.141493, train error 4.95,  val loss 0.374249, percent error 11.00\n",
            "Epoch    36, train loss 0.114421, train error 3.97,  val loss 0.363165, percent error 9.80\n",
            "Epoch    37, train loss 0.116921, train error 3.82,  val loss 0.368174, percent error 9.30\n",
            "Epoch    38, train loss 0.103246, train error 3.22,  val loss 0.329510, percent error 9.60\n",
            "Epoch    39, train loss 0.096991, train error 3.18,  val loss 0.332236, percent error 10.10\n",
            "Epoch    40, train loss 0.078481, train error 2.28,  val loss 0.342493, percent error 9.30\n",
            "Epoch    41, train loss 0.075164, train error 2.15,  val loss 0.340201, percent error 8.70\n",
            "Epoch    42, train loss 0.076133, train error 2.28,  val loss 0.335113, percent error 9.60\n",
            "Epoch    43, train loss 0.072384, train error 2.12,  val loss 0.347622, percent error 9.30\n",
            "Epoch    44, train loss 0.072638, train error 2.10,  val loss 0.356039, percent error 9.10\n",
            "Epoch    45, train loss 0.069967, train error 2.07,  val loss 0.339368, percent error 9.10\n",
            "Epoch    46, train loss 0.070618, train error 1.80,  val loss 0.358308, percent error 8.80\n",
            "Epoch    47, train loss 0.072986, train error 2.03,  val loss 0.375805, percent error 9.30\n",
            "Epoch    48, train loss 0.072057, train error 2.12,  val loss 0.355832, percent error 9.40\n",
            "Epoch    49, train loss 0.063388, train error 1.78,  val loss 0.360970, percent error 9.00\n",
            "Epoch    50, train loss 0.065907, train error 1.85,  val loss 0.380662, percent error 9.20\n",
            "Epoch    51, train loss 0.065291, train error 1.70,  val loss 0.358460, percent error 9.10\n",
            "Epoch    52, train loss 0.068213, train error 1.97,  val loss 0.381223, percent error 9.80\n",
            "Epoch    53, train loss 0.058847, train error 1.60,  val loss 0.355301, percent error 9.00\n",
            "Epoch    54, train loss 0.058644, train error 1.65,  val loss 0.355191, percent error 9.30\n",
            "Epoch    55, train loss 0.054359, train error 1.18,  val loss 0.360072, percent error 8.90\n",
            "Epoch    56, train loss 0.055755, train error 1.35,  val loss 0.359670, percent error 9.00\n",
            "Epoch    57, train loss 0.053502, train error 1.32,  val loss 0.379932, percent error 9.00\n",
            "Epoch    58, train loss 0.050073, train error 1.18,  val loss 0.368084, percent error 9.30\n",
            "Epoch    59, train loss 0.058684, train error 1.50,  val loss 0.365009, percent error 9.00\n",
            "Epoch    60, train loss 0.047716, train error 1.05,  val loss 0.369424, percent error 9.00\n",
            "Epoch    61, train loss 0.047643, train error 1.12,  val loss 0.374974, percent error 8.90\n",
            "Epoch    62, train loss 0.045816, train error 0.95,  val loss 0.370701, percent error 8.90\n",
            "Epoch    63, train loss 0.046779, train error 1.03,  val loss 0.382036, percent error 9.10\n",
            "Epoch    64, train loss 0.045162, train error 0.97,  val loss 0.371249, percent error 9.20\n",
            "Epoch    65, train loss 0.044997, train error 1.03,  val loss 0.380099, percent error 9.10\n",
            "Epoch    66, train loss 0.047518, train error 1.10,  val loss 0.371928, percent error 9.00\n",
            "Epoch    67, train loss 0.046029, train error 1.03,  val loss 0.381537, percent error 8.90\n",
            "Epoch    68, train loss 0.043130, train error 0.80,  val loss 0.381283, percent error 8.70\n",
            "Epoch    69, train loss 0.043805, train error 0.88,  val loss 0.388005, percent error 8.90\n",
            "Epoch    70, train loss 0.041869, train error 0.88,  val loss 0.376562, percent error 8.90\n",
            "Epoch    71, train loss 0.042010, train error 0.90,  val loss 0.389786, percent error 8.80\n",
            "Epoch    72, train loss 0.041337, train error 0.78,  val loss 0.390001, percent error 9.10\n",
            "Epoch    73, train loss 0.041282, train error 0.75,  val loss 0.390939, percent error 8.80\n",
            "Epoch    74, train loss 0.041747, train error 0.93,  val loss 0.387081, percent error 9.00\n",
            "Epoch    75, train loss 0.039645, train error 0.85,  val loss 0.386539, percent error 9.10\n",
            "Epoch    76, train loss 0.039343, train error 0.78,  val loss 0.391620, percent error 8.80\n",
            "Epoch    77, train loss 0.039501, train error 0.82,  val loss 0.390678, percent error 9.20\n",
            "Epoch    78, train loss 0.038555, train error 0.78,  val loss 0.395264, percent error 9.00\n",
            "Epoch    79, train loss 0.037628, train error 0.72,  val loss 0.389944, percent error 9.10\n",
            "Epoch    80, train loss 0.036773, train error 0.72,  val loss 0.391817, percent error 9.00\n",
            "Epoch    81, train loss 0.036820, train error 0.70,  val loss 0.392487, percent error 9.10\n",
            "Epoch    82, train loss 0.036955, train error 0.72,  val loss 0.394672, percent error 8.90\n",
            "Epoch    83, train loss 0.036372, train error 0.68,  val loss 0.393313, percent error 8.60\n",
            "Epoch    84, train loss 0.035902, train error 0.68,  val loss 0.393353, percent error 9.10\n",
            "Epoch    85, train loss 0.036269, train error 0.72,  val loss 0.395532, percent error 8.90\n",
            "Epoch    86, train loss 0.035769, train error 0.72,  val loss 0.394480, percent error 8.80\n",
            "Epoch    87, train loss 0.035410, train error 0.72,  val loss 0.393949, percent error 8.70\n",
            "Epoch    88, train loss 0.035178, train error 0.68,  val loss 0.398164, percent error 8.90\n",
            "Epoch    89, train loss 0.034898, train error 0.68,  val loss 0.394505, percent error 9.20\n",
            "Epoch    90, train loss 0.035121, train error 0.65,  val loss 0.396826, percent error 9.10\n",
            "Epoch    91, train loss 0.034653, train error 0.65,  val loss 0.394673, percent error 9.10\n",
            "Epoch    92, train loss 0.034558, train error 0.62,  val loss 0.400007, percent error 8.90\n",
            "Epoch    93, train loss 0.034548, train error 0.57,  val loss 0.401321, percent error 9.00\n",
            "Epoch    94, train loss 0.034029, train error 0.65,  val loss 0.398920, percent error 9.00\n",
            "Epoch    95, train loss 0.033737, train error 0.65,  val loss 0.398742, percent error 9.10\n",
            "Epoch    96, train loss 0.033868, train error 0.68,  val loss 0.401942, percent error 8.80\n",
            "Epoch    97, train loss 0.033458, train error 0.65,  val loss 0.401632, percent error 8.80\n",
            "Epoch    98, train loss 0.033361, train error 0.68,  val loss 0.402073, percent error 8.80\n",
            "Epoch    99, train loss 0.033012, train error 0.60,  val loss 0.402151, percent error 9.20\n"
          ]
        },
        {
          "data": {
            "image/png": "[encoded data removed]",
            "text/plain": [
              "<Figure size 640x480 with 1 Axes>"
            ]
          },
          "metadata": {},
          "output_type": "display_data"
        }
      ],
      "source": [
        "# choose cross entropy loss function (equation 5.24 in the loss notes)\n",
        "loss_function = nn.CrossEntropyLoss()\n",
        "# construct SGD optimizer and initialize learning rate and momentum\n",
        "optimizer = torch.optim.SGD(model.parameters(), lr = 0.05, momentum=0.9)\n",
        "# object that decreases learning rate by half every 20 epochs\n",
        "scheduler = StepLR(optimizer, step_size=20, gamma=0.5)\n",
        "# create 100 dummy data points and store in data loader class\n",
        "x_train = torch.tensor(train_data_x.transpose().astype('float32'))\n",
        "y_train = torch.tensor(train_data_y.astype('long')).long()\n",
        "x_val= torch.tensor(val_data_x.transpose().astype('float32'))\n",
        "y_val = torch.tensor(val_data_y.astype('long')).long()\n",
        "\n",
        "# load the data into a class that creates the batches\n",
        "data_loader = DataLoader(TensorDataset(x_train,y_train), batch_size=100, shuffle=True, worker_init_fn=np.random.seed(1))\n",
        "\n",
        "# Initialize model weights\n",
        "model.apply(weights_init)\n",
        "\n",
        "# loop over the dataset n_epoch times\n",
        "n_epoch = 100\n",
        "# store the loss and the % correct at each epoch\n",
        "losses_train = np.zeros((n_epoch))\n",
        "errors_train = np.zeros((n_epoch))\n",
        "losses_val = np.zeros((n_epoch))\n",
        "errors_val = np.zeros((n_epoch))\n",
        "\n",
        "for epoch in range(n_epoch):\n",
        "  # loop over batches\n",
        "  for i, data in enumerate(data_loader):\n",
        "    # retrieve inputs and labels for this batch\n",
        "    x_batch, y_batch = data\n",
        "    # zero the parameter gradients\n",
        "    optimizer.zero_grad()\n",
        "    # forward pass -- calculate model output\n",
        "    pred = model(x_batch[:,None,:])\n",
        "    # compute the loss\n",
        "    loss = loss_function(pred, y_batch)\n",
        "    # backward pass\n",
        "    loss.backward()\n",
        "    # SGD update\n",
        "    optimizer.step()\n",
        "\n",
        "  # Run whole dataset to get statistics -- normally wouldn't do this\n",
        "  pred_train = model(x_train[:,None,:])\n",
        "  pred_val = model(x_val[:,None,:])\n",
        "  _, predicted_train_class = torch.max(pred_train.data, 1)\n",
        "  _, predicted_val_class = torch.max(pred_val.data, 1)\n",
        "  errors_train[epoch] = 100 - 100 * (predicted_train_class == y_train).float().sum() / len(y_train)\n",
        "  errors_val[epoch]= 100 - 100 * (predicted_val_class == y_val).float().sum() / len(y_val)\n",
        "  losses_train[epoch] = loss_function(pred_train, y_train).item()\n",
        "  losses_val[epoch]= loss_function(pred_val, y_val).item()\n",
        "  print(f'Epoch {epoch:5d}, train loss {losses_train[epoch]:.6f}, train error {errors_train[epoch]:3.2f},  val loss {losses_val[epoch]:.6f}, percent error {errors_val[epoch]:3.2f}')\n",
        "\n",
        "  # tell scheduler to consider updating learning rate\n",
        "  scheduler.step()\n",
        "\n",
        "# Plot the results\n",
        "fig, ax = plt.subplots()\n",
        "ax.plot(errors_train,'r-',label='train')\n",
        "ax.plot(errors_val,'b-',label='validation')\n",
        "ax.set_ylim(0,100); ax.set_xlim(0,n_epoch)\n",
        "ax.set_xlabel('Epoch'); ax.set_ylabel('Error')\n",
        "ax.set_title('Part I: Validation Result %3.2f'%(errors_val[-1]))\n",
        "ax.legend()\n",
        "plt.show()"
      ]
    }
  ],
  "metadata": {
    "colab": {
      "authorship_tag": "ABX9TyNb46PJB/CC1pcHGfjpUUZg",
      "include_colab_link": true,
      "provenance": []
    },
    "kernelspec": {
      "display_name": "Python 3",
      "name": "python3"
    },
    "language_info": {
      "codemirror_mode": {
        "name": "ipython",
        "version": 3
      },
      "file_extension": ".py",
      "mimetype": "text/x-python",
      "name": "python",
      "nbconvert_exporter": "python",
      "pygments_lexer": "ipython3",
      "version": "3.10.12"
    }
  },
  "nbformat": 4,
  "nbformat_minor": 0
}
