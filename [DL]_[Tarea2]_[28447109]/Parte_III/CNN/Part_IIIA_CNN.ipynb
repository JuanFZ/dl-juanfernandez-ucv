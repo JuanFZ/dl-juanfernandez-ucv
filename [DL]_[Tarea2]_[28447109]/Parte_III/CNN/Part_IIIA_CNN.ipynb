{
 "cells": [
  {
   "cell_type": "markdown",
   "id": "1104a569",
   "metadata": {},
   "source": [
    "# __Tarea 2:__ \n",
    "\n",
    "1. Nombre: Juan Luis   \n",
    "1. Apellido: Fernández Abreu\n",
    "1. Correo: juuanfz@gmail.com\n",
    "--------"
   ]
  },
  {
   "cell_type": "markdown",
   "id": "78a30d3d",
   "metadata": {},
   "source": [
    "# PARTE III - CNN"
   ]
  },
  {
   "cell_type": "markdown",
   "id": "16ce5661",
   "metadata": {},
   "source": [
    "\n",
    "$$X = \\begin{pmatrix}\n",
    "2 & 5 & 4 & 1 \\\\\n",
    "3 & 1 & 2 & 0 \\\\\n",
    "4 & 5 & 7 & 1 \\\\\n",
    "1 & 2 & 3 & 4\n",
    "\\end{pmatrix}$$\n",
    "\n",
    "\n"
   ]
  },
  {
   "cell_type": "markdown",
   "id": "b27d6348",
   "metadata": {},
   "source": [
    "a) Calcule la salida de una convolución de dimensión kernel 2 × 2 sin padding y stride de 2."
   ]
  },
  {
   "cell_type": "markdown",
   "id": "76de28ed",
   "metadata": {},
   "source": [
    "R= $NO$ $padding$, $stride$ = $2$ (S), $dimensión\\_entrada$ = $4$ (D), $Kernel$ = $K$:"
   ]
  },
  {
   "cell_type": "markdown",
   "id": "54280495",
   "metadata": {},
   "source": [
    "\n",
    "$$K = \\begin{pmatrix}\n",
    "1 & 0  \\\\\n",
    "0 & 1\n",
    "\\end{pmatrix}$$\n",
    "\n",
    "\n"
   ]
  },
  {
   "cell_type": "markdown",
   "id": "8a7efca1",
   "metadata": {},
   "source": [
    "Luego aplicamos la convolución, tomando cada región $2x2$ de nuestra Matriz inicial de entrada y multiplicamos por el Kernel $K$"
   ]
  },
  {
   "cell_type": "markdown",
   "id": "19ad91b6",
   "metadata": {},
   "source": [
    "#### (0,0):\n",
    "\n",
    "$\n",
    "\\text{(0,0)} =\n",
    "\\begin{bmatrix}\n",
    "2 & 5 \\\\\n",
    "3 & 1\n",
    "\\end{bmatrix},\n",
    "\\quad\n",
    "\\text{K} =\n",
    "\\begin{bmatrix}\n",
    "1 & 0 \\\\\n",
    "0 & 1\n",
    "\\end{bmatrix}\n",
    "$\n",
    "\n",
    "$\n",
    "(2 \\times 1) + (5 \\times 0) + (3 \\times 0) + (1 \\times 1) = 3\n",
    "$\n"
   ]
  },
  {
   "cell_type": "markdown",
   "id": "c1db915f",
   "metadata": {},
   "source": [
    "#### (0,2):\n",
    "\n",
    "$\n",
    "\\text{(0,2)} =\n",
    "\\begin{bmatrix}\n",
    "4 & 1 \\\\\n",
    "2 & 0\n",
    "\\end{bmatrix},\n",
    "\\quad\n",
    "\\text{K} =\n",
    "\\begin{bmatrix}\n",
    "1 & 0 \\\\\n",
    "0 & 1\n",
    "\\end{bmatrix}\n",
    "$\n",
    "\n",
    "$\n",
    "(4 \\times 1) + (1 \\times 0) + (2 \\times 0) + (0 \\times 1) = 4\n",
    "$\n"
   ]
  },
  {
   "cell_type": "markdown",
   "id": "8267996e",
   "metadata": {},
   "source": [
    "#### (2,0):\n",
    "\n",
    "$\n",
    "\\text{(2,0)} =\n",
    "\\begin{bmatrix}\n",
    "4 & 5 \\\\\n",
    "1 & 2\n",
    "\\end{bmatrix},\n",
    "\\quad\n",
    "\\text{K} =\n",
    "\\begin{bmatrix}\n",
    "1 & 0 \\\\\n",
    "0 & 1\n",
    "\\end{bmatrix}\n",
    "$\n",
    "\n",
    "$\n",
    "(4 \\times 1) + (5 \\times 0) + (1 \\times 0) + (2 \\times 1) = 6\n",
    "$\n"
   ]
  },
  {
   "cell_type": "markdown",
   "id": "309b8e67",
   "metadata": {},
   "source": [
    "#### (2, 2):\n",
    "\n",
    "$\n",
    "\\text{(2,2)} =\n",
    "\\begin{bmatrix}\n",
    "7 & 1 \\\\\n",
    "3 & 4\n",
    "\\end{bmatrix},\n",
    "\\quad\n",
    "\\text{K} =\n",
    "\\begin{bmatrix}\n",
    "1 & 0 \\\\\n",
    "0 & 1\n",
    "\\end{bmatrix}\n",
    "$\n",
    "\n",
    "$\n",
    "(7 \\times 1) + (1 \\times 0) + (3 \\times 0) + (4 \\times 1) = 11\n",
    "$\n"
   ]
  },
  {
   "cell_type": "markdown",
   "id": "5def5fa9",
   "metadata": {},
   "source": [
    "Dimensión de $Salida$  = $\\left\\lfloor \\frac{D - K}{S} \\right\\rfloor + 1$ \n"
   ]
  },
  {
   "cell_type": "markdown",
   "id": "d002244c",
   "metadata": {},
   "source": [
    " = $\\left\\lfloor \\frac{4 - 2}{2} \\right\\rfloor + 1$ = $2$, por ende la salida será una matriz de tamaño $2x2$"
   ]
  },
  {
   "cell_type": "markdown",
   "id": "a75f0740",
   "metadata": {},
   "source": [
    "Por lo tanto, la matriz de salida $y$ será expresada como:"
   ]
  },
  {
   "cell_type": "markdown",
   "id": "1c6ebd2e",
   "metadata": {},
   "source": [
    "\n",
    "$$y = \\begin{pmatrix}\n",
    "3 & 4  \\\\\n",
    "6 & 11\n",
    "\\end{pmatrix}$$\n",
    "\n",
    "\n"
   ]
  },
  {
   "cell_type": "markdown",
   "id": "11411a20",
   "metadata": {},
   "source": [
    "b) Calcule la salida de una convolución de dimensión kernel 2 × 2 con padding 2 y stride de 2."
   ]
  },
  {
   "cell_type": "markdown",
   "id": "87fb2ad0",
   "metadata": {},
   "source": [
    "R= $padding$ = $2$ (P), $stride$ = $2$ (S), $dimensión\\_entrada$ = $4$ (D), $Kernel$ = $K$:"
   ]
  },
  {
   "cell_type": "markdown",
   "id": "13ee4ee3",
   "metadata": {},
   "source": [
    "\n",
    "$$K = \\begin{pmatrix}\n",
    "1 & 0  \\\\\n",
    "0 & -1\n",
    "\\end{pmatrix}$$\n",
    "\n",
    "\n"
   ]
  },
  {
   "cell_type": "markdown",
   "id": "ba34d28f",
   "metadata": {},
   "source": [
    "El Padding = 2 hace que se aumenten 2 filas y 2 columnas de 0's alrededor de la entrada original:"
   ]
  },
  {
   "cell_type": "markdown",
   "id": "e793538f",
   "metadata": {},
   "source": [
    "\n",
    "$$X\\_{conPadding}= \\begin{pmatrix}\n",
    "0 &0 & 0 & 0 & 0 & 0 & 0  & 0\\\\\n",
    "0 &0 & 0 & 0 & 0 & 0 & 0  & 0\\\\\n",
    "0 &0 &2 & 5 & 4 & 1 & 0 & 0  \\\\\n",
    "0 &0 &3 & 1 & 2 & 0 & 0 & 0\\\\\n",
    "0 &0 &4 & 5 & 7 & 1 & 0 & 0\\\\\n",
    "0 &0 &1 & 2 & 3 & 4 & 0 & 0 \\\\\n",
    "0 &0 & 0 & 0 & 0 & 0 & 0  & 0\\\\\n",
    "0 &0 & 0 & 0 & 0 & 0 & 0  & 0\n",
    "\\end{pmatrix}$$\n",
    "\n",
    "\n"
   ]
  },
  {
   "cell_type": "markdown",
   "id": "8265fd9a",
   "metadata": {},
   "source": [
    "Luego aplicamos la convolución, tomando cada región $2x2$ de nuestra Matriz inicial de entrada y multiplicamos por el Kernel $K$"
   ]
  },
  {
   "cell_type": "markdown",
   "id": "2610f5da",
   "metadata": {},
   "source": [
    "#### (0,0):\n",
    "\n",
    "$\n",
    "\\text{(0,0)} =\n",
    "\\begin{bmatrix}\n",
    "0 & 0 \\\\\n",
    "0 & 0\n",
    "\\end{bmatrix},\n",
    "\\quad\n",
    "\\text{K} =\n",
    "\\begin{bmatrix}\n",
    "1 & 0 \\\\\n",
    "0 & -1\n",
    "\\end{bmatrix}\n",
    "$\n",
    "\n",
    "$\n",
    "(0 \\times 1) + (0 \\times 0) + (0 \\times 0) + (0 \\times -1) = 0\n",
    "$\n"
   ]
  },
  {
   "cell_type": "markdown",
   "id": "e34ba151",
   "metadata": {},
   "source": [
    "#### (0,1):\n",
    "\n",
    "$\n",
    "\\text{(0,1)} =\n",
    "\\begin{bmatrix}\n",
    "0 & 0 \\\\\n",
    "0 & 0\n",
    "\\end{bmatrix},\n",
    "\\quad\n",
    "\\text{K} =\n",
    "\\begin{bmatrix}\n",
    "1 & 0 \\\\\n",
    "0 & -1\n",
    "\\end{bmatrix}\n",
    "$\n",
    "\n",
    "$\n",
    "(0 \\times 1) + (0 \\times 0) + (0 \\times 0) + (0 \\times -1) = 0\n",
    "$\n"
   ]
  },
  {
   "cell_type": "markdown",
   "id": "3ebacf11",
   "metadata": {},
   "source": [
    "#### (0,2):\n",
    "\n",
    "$\n",
    "\\text{(0,2)} =\n",
    "\\begin{bmatrix}\n",
    "0 & 0 \\\\\n",
    "0 & 0\n",
    "\\end{bmatrix},\n",
    "\\quad\n",
    "\\text{K} =\n",
    "\\begin{bmatrix}\n",
    "1 & 0 \\\\\n",
    "0 & -1\n",
    "\\end{bmatrix}\n",
    "$\n",
    "\n",
    "$\n",
    "(0 \\times 1) + (0 \\times 0) + (0 \\times -1) + (0 \\times 0) = 0\n",
    "$\n"
   ]
  },
  {
   "cell_type": "markdown",
   "id": "64a1783c",
   "metadata": {},
   "source": [
    "#### (0,3):\n",
    "\n",
    "$\n",
    "\\text{(0,3)} =\n",
    "\\begin{bmatrix}\n",
    "0 & 0 \\\\\n",
    "0 & 0\n",
    "\\end{bmatrix},\n",
    "\\quad\n",
    "\\text{K} =\n",
    "\\begin{bmatrix}\n",
    "1 & 0 \\\\\n",
    "0 & -1\n",
    "\\end{bmatrix}\n",
    "$\n",
    "\n",
    "$\n",
    "(0 \\times 1) + (0 \\times 0) + (0 \\times 0) + (0 \\times -1) = 0\n",
    "$\n"
   ]
  },
  {
   "cell_type": "markdown",
   "id": "d211a600",
   "metadata": {},
   "source": [
    "#### (1,0):\n",
    "\n",
    "$\n",
    "\\text{(1,0)} =\n",
    "\\begin{bmatrix}\n",
    "0 & 0 \\\\\n",
    "0 & 0\n",
    "\\end{bmatrix},\n",
    "\\quad\n",
    "\\text{K} =\n",
    "\\begin{bmatrix}\n",
    "1 & 0 \\\\\n",
    "0 & -1\n",
    "\\end{bmatrix}\n",
    "$\n",
    "\n",
    "$\n",
    "(0 \\times 1) + (0 \\times 0) + (0 \\times 0) + (0 \\times -1) = 0\n",
    "$\n"
   ]
  },
  {
   "cell_type": "markdown",
   "id": "bf3cdd46",
   "metadata": {},
   "source": [
    "#### (1,1):\n",
    "\n",
    "$\n",
    "\\text{(1,1)} =\n",
    "\\begin{bmatrix}\n",
    "2 & 5 \\\\\n",
    "3 & 1\n",
    "\\end{bmatrix},\n",
    "\\quad\n",
    "\\text{K} =\n",
    "\\begin{bmatrix}\n",
    "1 & 0 \\\\\n",
    "0 & -1\n",
    "\\end{bmatrix}\n",
    "$\n",
    "\n",
    "$\n",
    "(2 \\times 1) + (5 \\times 0) + (3 \\times 0) + (1 \\times -1) = 1\n",
    "$\n"
   ]
  },
  {
   "cell_type": "markdown",
   "id": "cefc938d",
   "metadata": {},
   "source": [
    "#### (1,2):\n",
    "\n",
    "$\n",
    "\\text{(1,2)} =\n",
    "\\begin{bmatrix}\n",
    "4 & 1 \\\\\n",
    "2 & 0\n",
    "\\end{bmatrix},\n",
    "\\quad\n",
    "\\text{K} =\n",
    "\\begin{bmatrix}\n",
    "1 & 0 \\\\\n",
    "0 & -1\n",
    "\\end{bmatrix}\n",
    "$\n",
    "\n",
    "$\n",
    "(4 \\times 1) + (1 \\times 0) + (2 \\times 0) + (0 \\times -1) = 4\n",
    "$\n"
   ]
  },
  {
   "cell_type": "markdown",
   "id": "464fac05",
   "metadata": {},
   "source": [
    "#### (1,3):\n",
    "\n",
    "$\n",
    "\\text{(1,3)} =\n",
    "\\begin{bmatrix}\n",
    "0 & 0 \\\\\n",
    "0 & 0\n",
    "\\end{bmatrix},\n",
    "\\quad\n",
    "\\text{K} =\n",
    "\\begin{bmatrix}\n",
    "1 & 0 \\\\\n",
    "0 & -1\n",
    "\\end{bmatrix}\n",
    "$\n",
    "\n",
    "$\n",
    "(0 \\times 1) + (0 \\times 0) + (0 \\times 0) + (0 \\times -1) = 0\n",
    "$\n"
   ]
  },
  {
   "cell_type": "markdown",
   "id": "16549721",
   "metadata": {},
   "source": [
    "#### (2,0):\n",
    "\n",
    "$\n",
    "\\text{(2,0)} =\n",
    "\\begin{bmatrix}\n",
    "0 & 0 \\\\\n",
    "0 & 0\n",
    "\\end{bmatrix},\n",
    "\\quad\n",
    "\\text{K} =\n",
    "\\begin{bmatrix}\n",
    "1 & 0 \\\\\n",
    "0 & -1\n",
    "\\end{bmatrix}\n",
    "$\n",
    "\n",
    "$\n",
    "(0 \\times 1) + (0 \\times 0) + (0 \\times 0) + (0 \\times -1) = 0\n",
    "$\n"
   ]
  },
  {
   "cell_type": "markdown",
   "id": "0c538bf5",
   "metadata": {},
   "source": [
    "#### (2,1):\n",
    "\n",
    "$\n",
    "\\text{(2,1)} =\n",
    "\\begin{bmatrix}\n",
    "4 & 5 \\\\\n",
    "1 & 2\n",
    "\\end{bmatrix},\n",
    "\\quad\n",
    "\\text{K} =\n",
    "\\begin{bmatrix}\n",
    "1 & 0 \\\\\n",
    "0 & -1\n",
    "\\end{bmatrix}\n",
    "$\n",
    "\n",
    "$\n",
    "(4 \\times 1) + (5 \\times 0) + (1 \\times 0) + (2 \\times -1) = 2\n",
    "$\n"
   ]
  },
  {
   "cell_type": "markdown",
   "id": "2e1306f2",
   "metadata": {},
   "source": [
    "#### (2,2):\n",
    "\n",
    "$\n",
    "\\text{(2,2)} =\n",
    "\\begin{bmatrix}\n",
    "7 & 1 \\\\\n",
    "3 & 4\n",
    "\\end{bmatrix},\n",
    "\\quad\n",
    "\\text{K} =\n",
    "\\begin{bmatrix}\n",
    "1 & 0 \\\\\n",
    "0 & -1\n",
    "\\end{bmatrix}\n",
    "$\n",
    "\n",
    "$\n",
    "(7 \\times 1) + (1 \\times 0) + (3 \\times 0) + (4 \\times -1) = 3\n",
    "$\n"
   ]
  },
  {
   "cell_type": "markdown",
   "id": "e70c3fa5",
   "metadata": {},
   "source": [
    "#### (2,3):\n",
    "\n",
    "$\n",
    "\\text{(2,3)} =\n",
    "\\begin{bmatrix}\n",
    "0 & 0 \\\\\n",
    "0 & 0\n",
    "\\end{bmatrix},\n",
    "\\quad\n",
    "\\text{K} =\n",
    "\\begin{bmatrix}\n",
    "1 & 0 \\\\\n",
    "0 & -1\n",
    "\\end{bmatrix}\n",
    "$\n",
    "\n",
    "$\n",
    "(0 \\times 1) + (0 \\times 0) + (0 \\times 0) + (0 \\times -1) = 0\n",
    "$\n"
   ]
  },
  {
   "cell_type": "markdown",
   "id": "adcb816c",
   "metadata": {},
   "source": [
    "#### (3,0):\n",
    "\n",
    "$\n",
    "\\text{(3,0)} =\n",
    "\\begin{bmatrix}\n",
    "0 & 0 \\\\\n",
    "0 & 0\n",
    "\\end{bmatrix},\n",
    "\\quad\n",
    "\\text{K} =\n",
    "\\begin{bmatrix}\n",
    "1 & 0 \\\\\n",
    "0 & -1\n",
    "\\end{bmatrix}\n",
    "$\n",
    "\n",
    "$\n",
    "(0 \\times 1) + (0 \\times 0) + (0 \\times 0) + (0 \\times -1) = 0\n",
    "$\n"
   ]
  },
  {
   "cell_type": "markdown",
   "id": "d83d1378",
   "metadata": {},
   "source": [
    "#### (3,1):\n",
    "\n",
    "$\n",
    "\\text{(3,1)} =\n",
    "\\begin{bmatrix}\n",
    "0 & 0 \\\\\n",
    "0 & 0\n",
    "\\end{bmatrix},\n",
    "\\quad\n",
    "\\text{K} =\n",
    "\\begin{bmatrix}\n",
    "1 & 0 \\\\\n",
    "0 & -1\n",
    "\\end{bmatrix}\n",
    "$\n",
    "\n",
    "$\n",
    "(0 \\times 1) + (0 \\times 0) + (0 \\times 0) + (0 \\times -1) = 0\n",
    "$\n"
   ]
  },
  {
   "cell_type": "markdown",
   "id": "205f9bc7",
   "metadata": {},
   "source": [
    "#### (3,2):\n",
    "\n",
    "$\n",
    "\\text{(3,2)} =\n",
    "\\begin{bmatrix}\n",
    "0 & 0 \\\\\n",
    "0 & 0\n",
    "\\end{bmatrix},\n",
    "\\quad\n",
    "\\text{K} =\n",
    "\\begin{bmatrix}\n",
    "1 & 0 \\\\\n",
    "0 & -1\n",
    "\\end{bmatrix}\n",
    "$\n",
    "\n",
    "$\n",
    "(0 \\times 1) + (0 \\times 0) + (0 \\times 0) + (0 \\times -1) = 0\n",
    "$\n"
   ]
  },
  {
   "cell_type": "markdown",
   "id": "29e7021a",
   "metadata": {},
   "source": [
    "#### (3,3):\n",
    "\n",
    "$\n",
    "\\text{(3,3)} =\n",
    "\\begin{bmatrix}\n",
    "0 & 0 \\\\\n",
    "0 & 0\n",
    "\\end{bmatrix},\n",
    "\\quad\n",
    "\\text{K} =\n",
    "\\begin{bmatrix}\n",
    "1 & 0 \\\\\n",
    "0 & -1\n",
    "\\end{bmatrix}\n",
    "$\n",
    "\n",
    "$\n",
    "(0 \\times 1) + (0 \\times 0) + (0 \\times 0) + (0 \\times -1) = 0\n",
    "$\n"
   ]
  },
  {
   "cell_type": "markdown",
   "id": "3765ad1e",
   "metadata": {},
   "source": [
    "Dimensión de $Salida$  = $\\left\\lfloor \\frac{D +2P - K}{S} \\right\\rfloor + 1$ \n"
   ]
  },
  {
   "cell_type": "markdown",
   "id": "e2b1f428",
   "metadata": {},
   "source": [
    " = $\\left\\lfloor \\frac{4 - 2(2)}{2} \\right\\rfloor + 1$ = $\\left\\lfloor \\frac{6}{2} \\right\\rfloor + 1$ = $3 + 1$ = $4$, por ende la salida será una matriz de tamaño $4x4$"
   ]
  },
  {
   "cell_type": "markdown",
   "id": "400aecb3",
   "metadata": {},
   "source": [
    "Por lo tanto, la matriz de salida $y$ será expresada como:"
   ]
  },
  {
   "cell_type": "markdown",
   "id": "06bf60bf",
   "metadata": {},
   "source": [
    "\n",
    "$$y = \\begin{pmatrix}\n",
    "0 & 0 & 0 & 0 \\\\\n",
    "0 & 1 & 4 & 0\\\\\n",
    "0 & 2 & 3 & 0\\\\\n",
    "0 & 0 & 0 & 0\n",
    "\\end{pmatrix}$$\n",
    "\n",
    "\n"
   ]
  },
  {
   "cell_type": "markdown",
   "id": "077a13dc",
   "metadata": {},
   "source": [
    "2. ¿Cómo podemos determinar la dimensión de salida luego de aplicar la función de convolución?"
   ]
  },
  {
   "cell_type": "markdown",
   "id": "58ab0be2",
   "metadata": {},
   "source": [
    "R = En ambas se utiliza la  fórmula estándar para calcular el tamaño de salida de una convolución 2D:"
   ]
  },
  {
   "cell_type": "markdown",
   "id": "3345eebc",
   "metadata": {},
   "source": [
    "$\\left\\lfloor \\frac{D +2P - K}{S} \\right\\rfloor + 1$ "
   ]
  },
  {
   "cell_type": "markdown",
   "id": "41fdef27",
   "metadata": {},
   "source": [
    "en a) vemos que el padding es 0 por lo que la fórmula queda como  $\\left\\lfloor \\frac{D - K}{S} \\right\\rfloor + 1$ "
   ]
  },
  {
   "cell_type": "markdown",
   "id": "9301c4f1",
   "metadata": {},
   "source": [
    "3. ¿Qué beneficios tiene el uso de CNNs sobre las redes completamente conectadas?"
   ]
  },
  {
   "cell_type": "markdown",
   "id": "b6124629",
   "metadata": {},
   "source": [
    "R = Las Redes Neuronales Convolucionales (CNNs) superan ampliamente a las redes completamente conectadas cuando se trata de trabajar con datos con estructura espacial, como imágenes. Gracias al uso de filtros locales, pesos compartidos y stride/padding, las CNN reducen drásticamente la cantidad de parámetros, además de que capturan patrones espaciales como bordes y texturas. También son más eficientes y menos propensas a overfitting."
   ]
  }
 ],
 "metadata": {
  "kernelspec": {
   "display_name": "Python 3",
   "language": "python",
   "name": "python3"
  },
  "language_info": {
   "codemirror_mode": {
    "name": "ipython",
    "version": 3
   },
   "file_extension": ".py",
   "mimetype": "text/x-python",
   "name": "python",
   "nbconvert_exporter": "python",
   "pygments_lexer": "ipython3",
   "version": "3.10.12"
  }
 },
 "nbformat": 4,
 "nbformat_minor": 5
}
