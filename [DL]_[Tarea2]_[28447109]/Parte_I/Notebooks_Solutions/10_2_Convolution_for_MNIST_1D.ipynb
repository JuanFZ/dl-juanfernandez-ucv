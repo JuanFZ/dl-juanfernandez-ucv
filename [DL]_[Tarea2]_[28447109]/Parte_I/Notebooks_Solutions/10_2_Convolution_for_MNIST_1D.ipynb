{
  "cells": [
    {
      "cell_type": "markdown",
      "metadata": {
        "colab_type": "text",
        "id": "view-in-github"
      },
      "source": [
        "<a href=\"https://colab.research.google.com/github/udlbook/udlbook/blob/main/Notebooks/Chap10/10_2_Convolution_for_MNIST_1D.ipynb\" target=\"_parent\"><img src=\"https://colab.research.google.com/assets/colab-badge.svg\" alt=\"Open In Colab\"/></a>"
      ]
    },
    {
      "cell_type": "markdown",
      "metadata": {
        "id": "t9vk9Elugvmi"
      },
      "source": [
        "# **Notebook 10.2: Convolution for MNIST-1D**\n",
        "\n",
        "This notebook investigates a 1D convolutional network for MNIST-1D as in figure 10.7 and 10.8a.\n",
        "\n",
        "Work through the cells below, running each cell in turn. In various places you will see the words \"TODO\". Follow the instructions at these places and make predictions about what is going to happen or write code to complete the functions.\n",
        "\n",
        "Contact me at udlbookmail@gmail.com if you find any mistakes or have any suggestions.\n",
        "\n"
      ]
    },
    {
      "cell_type": "code",
      "execution_count": null,
      "metadata": {
        "id": "D5yLObtZCi9J"
      },
      "outputs": [
        {
          "name": "stdout",
          "output_type": "stream",
          "text": [
            "Cloning into 'mnist1d'...\n",
            "remote: Enumerating objects: 541, done.\u001b[K\n",
            "remote: Counting objects: 100% (76/76), done.\u001b[K\n",
            "remote: Compressing objects: 100% (10/10), done.\u001b[K\n",
            "remote: Total 541 (delta 67), reused 66 (delta 66), pack-reused 465 (from 1)\u001b[K\n",
            "Receiving objects: 100% (541/541), 14.54 MiB | 1.45 MiB/s, done.\n",
            "Resolving deltas: 100% (259/259), done.\n"
          ]
        }
      ],
      "source": [
        "!git clone https://github.com/greydanus/mnist1d"
      ]
    },
    {
      "cell_type": "code",
      "execution_count": 1,
      "metadata": {
        "id": "YrXWAH7sUWvU"
      },
      "outputs": [],
      "source": [
        "import numpy as np\n",
        "import os\n",
        "import torch, torch.nn as nn\n",
        "from torch.utils.data import TensorDataset, DataLoader\n",
        "from torch.optim.lr_scheduler import StepLR\n",
        "import matplotlib.pyplot as plt\n",
        "import mnist1d\n",
        "import random"
      ]
    },
    {
      "cell_type": "code",
      "execution_count": 2,
      "metadata": {
        "id": "twI72ZCrCt5z"
      },
      "outputs": [
        {
          "name": "stdout",
          "output_type": "stream",
          "text": [
            "Successfully loaded data from ./mnist1d_data.pkl\n",
            "Examples in training set: 4000\n",
            "Examples in test set: 1000\n",
            "Length of each example: 40\n"
          ]
        }
      ],
      "source": [
        "args = mnist1d.data.get_dataset_args()\n",
        "data = mnist1d.data.get_dataset(args, path='./mnist1d_data.pkl', download=False, regenerate=False)\n",
        "\n",
        "# The training and test input and outputs are in\n",
        "# data['x'], data['y'], data['x_test'], and data['y_test']\n",
        "print(\"Examples in training set: {}\".format(len(data['y'])))\n",
        "print(\"Examples in test set: {}\".format(len(data['y_test'])))\n",
        "print(\"Length of each example: {}\".format(data['x'].shape[-1]))"
      ]
    },
    {
      "cell_type": "code",
      "execution_count": 3,
      "metadata": {
        "id": "8bKADvLHbiV5"
      },
      "outputs": [
        {
          "name": "stdout",
          "output_type": "stream",
          "text": [
            "Train data: 4000 examples (columns), each of which has 40 dimensions (rows)\n",
            "Validation data: 1000 examples (columns), each of which has 40 dimensions (rows)\n"
          ]
        }
      ],
      "source": [
        "# Load in the data\n",
        "train_data_x = data['x'].transpose()\n",
        "train_data_y = data['y']\n",
        "val_data_x = data['x_test'].transpose()\n",
        "val_data_y = data['y_test']\n",
        "# Print out sizes\n",
        "print(\"Train data: %d examples (columns), each of which has %d dimensions (rows)\"%((train_data_x.shape[1],train_data_x.shape[0])))\n",
        "print(\"Validation data: %d examples (columns), each of which has %d dimensions (rows)\"%((val_data_x.shape[1],val_data_x.shape[0])))"
      ]
    },
    {
      "cell_type": "markdown",
      "metadata": {
        "id": "_sFvRDGrl4qe"
      },
      "source": [
        "Define the network"
      ]
    },
    {
      "cell_type": "code",
      "execution_count": 4,
      "metadata": {
        "id": "FslroPJJffrh"
      },
      "outputs": [],
      "source": [
        "# There are 40 input dimensions and 10 output dimensions for this data\n",
        "# The inputs correspond to the 40 offsets in the MNIST1D template.\n",
        "D_i = 40\n",
        "# The outputs correspond to the 10 digits\n",
        "D_o = 10\n",
        "\n",
        "\n",
        "# TODO Create a model with the following layers\n",
        "# 1. Convolutional layer, (input=length 40 and 1 channel, kernel size 3, stride 2, padding=\"valid\", 15 output channels )\n",
        "# 2. ReLU\n",
        "# 3. Convolutional layer, (input=length 19 and 15 channels, kernel size 3, stride 2, padding=\"valid\", 15 output channels )\n",
        "# 4. ReLU\n",
        "# 5. Convolutional layer, (input=length 9 and 15 channels, kernel size 3, stride 2, padding=\"valid\", 15 output channels)\n",
        "# 6. ReLU\n",
        "# 7. Flatten (converts 4x15) to length 60\n",
        "# 8. Linear layer (input size = 60, output size = 10)\n",
        "# References:\n",
        "# https://pytorch.org/docs/1.13/generated/torch.nn.Conv1d.html?highlight=conv1d#torch.nn.Conv1d\n",
        "# https://pytorch.org/docs/stable/generated/torch.nn.Flatten.html\n",
        "# https://pytorch.org/docs/1.13/generated/torch.nn.Linear.html?highlight=linear#torch.nn.Linear\n",
        "\n",
        "# NOTE THAT THE CONVOLUTIONAL LAYERS NEED TO TAKE THE NUMBER OF INPUT CHANNELS AS A PARAMETER\n",
        "# AND NOT THE INPUT SIZE.\n",
        "\n",
        "# Replace the following function:\n",
        "model = nn.Sequential(\n",
        "    nn.Conv1d(in_channels=1, out_channels=15, kernel_size=3, stride=2, padding=0),  # Capa 1\n",
        "    nn.ReLU(),\n",
        "    nn.Conv1d(in_channels=15, out_channels=15, kernel_size=3, stride=2, padding=0), # Capa 2\n",
        "    nn.ReLU(),\n",
        "    nn.Conv1d(in_channels=15, out_channels=15, kernel_size=3, stride=2, padding=0), # Capa 3\n",
        "    nn.ReLU(),\n",
        "    nn.Flatten(),                         # Convierte 4x15 = 60 a vector plano\n",
        "    nn.Linear(60, 10)                     # Capa lineal final para clasificación\n",
        ")\n"
      ]
    },
    {
      "cell_type": "code",
      "execution_count": 5,
      "metadata": {
        "id": "YgLaex1pfhqz"
      },
      "outputs": [],
      "source": [
        "# He initialization of weights\n",
        "def weights_init(layer_in):\n",
        "  if isinstance(layer_in, nn.Linear):\n",
        "    nn.init.kaiming_uniform_(layer_in.weight)\n",
        "    layer_in.bias.data.fill_(0.0)"
      ]
    },
    {
      "cell_type": "code",
      "execution_count": 6,
      "metadata": {
        "id": "NYw8I_3mmX5c"
      },
      "outputs": [
        {
          "name": "stdout",
          "output_type": "stream",
          "text": [
            "Epoch     0, train loss 1.952495, train error 74.72,  val loss 1.965364, percent error 77.40\n",
            "Epoch     1, train loss 1.510280, train error 62.12,  val loss 1.542958, percent error 65.20\n",
            "Epoch     2, train loss 1.369305, train error 54.67,  val loss 1.390849, percent error 59.30\n",
            "Epoch     3, train loss 1.336070, train error 55.40,  val loss 1.342192, percent error 53.80\n",
            "Epoch     4, train loss 1.281232, train error 50.55,  val loss 1.325232, percent error 54.90\n",
            "Epoch     5, train loss 1.318207, train error 53.70,  val loss 1.324125, percent error 58.30\n",
            "Epoch     6, train loss 1.095465, train error 42.62,  val loss 1.127177, percent error 46.70\n",
            "Epoch     7, train loss 1.026021, train error 40.55,  val loss 1.071417, percent error 45.10\n",
            "Epoch     8, train loss 0.951787, train error 37.10,  val loss 0.997082, percent error 39.30\n",
            "Epoch     9, train loss 0.831899, train error 32.88,  val loss 0.877437, percent error 36.30\n",
            "Epoch    10, train loss 0.802749, train error 31.05,  val loss 0.848076, percent error 33.00\n",
            "Epoch    11, train loss 0.693617, train error 27.12,  val loss 0.740943, percent error 30.60\n",
            "Epoch    12, train loss 0.661205, train error 27.38,  val loss 0.716604, percent error 29.80\n",
            "Epoch    13, train loss 0.545985, train error 20.40,  val loss 0.628229, percent error 24.20\n",
            "Epoch    14, train loss 0.487517, train error 18.72,  val loss 0.602676, percent error 23.00\n",
            "Epoch    15, train loss 0.443169, train error 17.05,  val loss 0.556547, percent error 22.30\n",
            "Epoch    16, train loss 0.642107, train error 23.28,  val loss 0.805314, percent error 28.50\n",
            "Epoch    17, train loss 0.382866, train error 14.30,  val loss 0.546500, percent error 20.70\n",
            "Epoch    18, train loss 0.335373, train error 12.60,  val loss 0.489498, percent error 18.50\n",
            "Epoch    19, train loss 0.304505, train error 11.60,  val loss 0.481410, percent error 17.80\n",
            "Epoch    20, train loss 0.205809, train error 7.20,  val loss 0.366860, percent error 13.90\n",
            "Epoch    21, train loss 0.206329, train error 7.20,  val loss 0.396251, percent error 15.00\n",
            "Epoch    22, train loss 0.173384, train error 5.90,  val loss 0.333824, percent error 12.40\n",
            "Epoch    23, train loss 0.163013, train error 5.05,  val loss 0.342314, percent error 11.60\n",
            "Epoch    24, train loss 0.158183, train error 5.55,  val loss 0.336705, percent error 12.00\n",
            "Epoch    25, train loss 0.151016, train error 4.90,  val loss 0.336838, percent error 12.30\n",
            "Epoch    26, train loss 0.160180, train error 5.47,  val loss 0.322728, percent error 12.10\n",
            "Epoch    27, train loss 0.143604, train error 4.78,  val loss 0.326467, percent error 11.20\n",
            "Epoch    28, train loss 0.140402, train error 4.80,  val loss 0.323554, percent error 11.00\n",
            "Epoch    29, train loss 0.118072, train error 3.50,  val loss 0.328070, percent error 11.30\n",
            "Epoch    30, train loss 0.110591, train error 3.35,  val loss 0.307161, percent error 10.80\n",
            "Epoch    31, train loss 0.125530, train error 4.38,  val loss 0.334318, percent error 12.50\n",
            "Epoch    32, train loss 0.103442, train error 3.20,  val loss 0.316752, percent error 9.80\n",
            "Epoch    33, train loss 0.091570, train error 2.78,  val loss 0.300293, percent error 10.60\n",
            "Epoch    34, train loss 0.089007, train error 2.75,  val loss 0.312247, percent error 10.60\n",
            "Epoch    35, train loss 0.090847, train error 3.03,  val loss 0.330184, percent error 10.60\n",
            "Epoch    36, train loss 0.082278, train error 2.55,  val loss 0.314061, percent error 10.80\n",
            "Epoch    37, train loss 0.089017, train error 2.78,  val loss 0.318738, percent error 10.00\n",
            "Epoch    38, train loss 0.084879, train error 2.62,  val loss 0.312510, percent error 10.40\n",
            "Epoch    39, train loss 0.082273, train error 2.72,  val loss 0.335469, percent error 10.80\n",
            "Epoch    40, train loss 0.064428, train error 1.65,  val loss 0.313067, percent error 9.70\n",
            "Epoch    41, train loss 0.059420, train error 1.45,  val loss 0.313257, percent error 9.70\n",
            "Epoch    42, train loss 0.057940, train error 1.65,  val loss 0.308889, percent error 10.20\n",
            "Epoch    43, train loss 0.057081, train error 1.53,  val loss 0.320226, percent error 9.60\n",
            "Epoch    44, train loss 0.056150, train error 1.38,  val loss 0.321305, percent error 10.10\n",
            "Epoch    45, train loss 0.054691, train error 1.40,  val loss 0.316384, percent error 10.30\n",
            "Epoch    46, train loss 0.051360, train error 1.25,  val loss 0.325654, percent error 10.00\n",
            "Epoch    47, train loss 0.052519, train error 1.25,  val loss 0.320327, percent error 10.20\n",
            "Epoch    48, train loss 0.047676, train error 1.10,  val loss 0.319171, percent error 10.10\n",
            "Epoch    49, train loss 0.050217, train error 1.22,  val loss 0.333669, percent error 10.40\n",
            "Epoch    50, train loss 0.049422, train error 1.35,  val loss 0.337311, percent error 10.00\n",
            "Epoch    51, train loss 0.045818, train error 1.03,  val loss 0.322821, percent error 9.90\n",
            "Epoch    52, train loss 0.047402, train error 1.12,  val loss 0.322721, percent error 10.30\n",
            "Epoch    53, train loss 0.047679, train error 1.25,  val loss 0.327149, percent error 9.70\n",
            "Epoch    54, train loss 0.043678, train error 0.90,  val loss 0.328452, percent error 10.60\n",
            "Epoch    55, train loss 0.041740, train error 0.78,  val loss 0.336941, percent error 10.10\n",
            "Epoch    56, train loss 0.045331, train error 1.18,  val loss 0.349290, percent error 10.50\n",
            "Epoch    57, train loss 0.040150, train error 0.80,  val loss 0.331869, percent error 9.90\n",
            "Epoch    58, train loss 0.038989, train error 0.80,  val loss 0.335541, percent error 10.20\n",
            "Epoch    59, train loss 0.037834, train error 0.72,  val loss 0.339336, percent error 10.10\n",
            "Epoch    60, train loss 0.036187, train error 0.78,  val loss 0.339554, percent error 10.30\n",
            "Epoch    61, train loss 0.035787, train error 0.62,  val loss 0.341311, percent error 10.30\n",
            "Epoch    62, train loss 0.035069, train error 0.62,  val loss 0.340907, percent error 10.30\n",
            "Epoch    63, train loss 0.034373, train error 0.60,  val loss 0.344388, percent error 10.20\n",
            "Epoch    64, train loss 0.035548, train error 0.80,  val loss 0.354161, percent error 10.80\n",
            "Epoch    65, train loss 0.033577, train error 0.57,  val loss 0.344090, percent error 10.60\n",
            "Epoch    66, train loss 0.033734, train error 0.55,  val loss 0.346884, percent error 10.40\n",
            "Epoch    67, train loss 0.034934, train error 0.60,  val loss 0.348255, percent error 10.00\n",
            "Epoch    68, train loss 0.034268, train error 0.60,  val loss 0.343243, percent error 10.20\n",
            "Epoch    69, train loss 0.032743, train error 0.60,  val loss 0.349566, percent error 10.50\n",
            "Epoch    70, train loss 0.032537, train error 0.62,  val loss 0.345179, percent error 10.40\n",
            "Epoch    71, train loss 0.031479, train error 0.45,  val loss 0.349858, percent error 10.10\n",
            "Epoch    72, train loss 0.031668, train error 0.57,  val loss 0.353063, percent error 10.50\n",
            "Epoch    73, train loss 0.031821, train error 0.55,  val loss 0.357648, percent error 10.60\n",
            "Epoch    74, train loss 0.030881, train error 0.50,  val loss 0.351859, percent error 10.70\n",
            "Epoch    75, train loss 0.030507, train error 0.50,  val loss 0.350533, percent error 10.40\n",
            "Epoch    76, train loss 0.030033, train error 0.40,  val loss 0.351776, percent error 10.80\n",
            "Epoch    77, train loss 0.029761, train error 0.43,  val loss 0.356330, percent error 10.70\n",
            "Epoch    78, train loss 0.030090, train error 0.47,  val loss 0.356385, percent error 10.50\n",
            "Epoch    79, train loss 0.029301, train error 0.43,  val loss 0.359120, percent error 10.40\n",
            "Epoch    80, train loss 0.028741, train error 0.43,  val loss 0.358942, percent error 10.40\n",
            "Epoch    81, train loss 0.028553, train error 0.40,  val loss 0.356111, percent error 10.40\n",
            "Epoch    82, train loss 0.028585, train error 0.43,  val loss 0.359060, percent error 10.80\n",
            "Epoch    83, train loss 0.028098, train error 0.38,  val loss 0.359276, percent error 10.80\n",
            "Epoch    84, train loss 0.027979, train error 0.38,  val loss 0.358581, percent error 10.70\n",
            "Epoch    85, train loss 0.027839, train error 0.35,  val loss 0.358756, percent error 10.50\n",
            "Epoch    86, train loss 0.027848, train error 0.38,  val loss 0.358999, percent error 10.80\n",
            "Epoch    87, train loss 0.027539, train error 0.35,  val loss 0.359667, percent error 10.70\n",
            "Epoch    88, train loss 0.027512, train error 0.38,  val loss 0.363902, percent error 10.50\n",
            "Epoch    89, train loss 0.027351, train error 0.38,  val loss 0.362590, percent error 10.60\n",
            "Epoch    90, train loss 0.027099, train error 0.38,  val loss 0.361863, percent error 10.40\n",
            "Epoch    91, train loss 0.027221, train error 0.38,  val loss 0.363537, percent error 10.70\n",
            "Epoch    92, train loss 0.026824, train error 0.35,  val loss 0.364162, percent error 10.80\n",
            "Epoch    93, train loss 0.027045, train error 0.35,  val loss 0.365634, percent error 10.30\n",
            "Epoch    94, train loss 0.026760, train error 0.38,  val loss 0.362949, percent error 10.40\n",
            "Epoch    95, train loss 0.026642, train error 0.40,  val loss 0.364502, percent error 10.70\n",
            "Epoch    96, train loss 0.026331, train error 0.32,  val loss 0.366569, percent error 10.80\n",
            "Epoch    97, train loss 0.026218, train error 0.38,  val loss 0.364909, percent error 10.60\n",
            "Epoch    98, train loss 0.026171, train error 0.38,  val loss 0.369202, percent error 10.60\n",
            "Epoch    99, train loss 0.025995, train error 0.35,  val loss 0.366594, percent error 10.70\n"
          ]
        },
        {
          "data": {
            "image/png": "[encoded data removed]",
            "text/plain": [
              "<Figure size 640x480 with 1 Axes>"
            ]
          },
          "metadata": {},
          "output_type": "display_data"
        }
      ],
      "source": [
        "# choose cross entropy loss function (equation 5.24 in the loss notes)\n",
        "loss_function = nn.CrossEntropyLoss()\n",
        "# construct SGD optimizer and initialize learning rate and momentum\n",
        "optimizer = torch.optim.SGD(model.parameters(), lr = 0.05, momentum=0.9)\n",
        "# object that decreases learning rate by half every 20 epochs\n",
        "scheduler = StepLR(optimizer, step_size=20, gamma=0.5)\n",
        "# create 100 dummy data points and store in data loader class\n",
        "x_train = torch.tensor(train_data_x.transpose().astype('float32'))\n",
        "y_train = torch.tensor(train_data_y.astype('long')).long()\n",
        "x_val= torch.tensor(val_data_x.transpose().astype('float32'))\n",
        "y_val = torch.tensor(val_data_y.astype('long')).long()\n",
        "\n",
        "# load the data into a class that creates the batches\n",
        "data_loader = DataLoader(TensorDataset(x_train,y_train), batch_size=100, shuffle=True, worker_init_fn=np.random.seed(1))\n",
        "\n",
        "# Initialize model weights\n",
        "model.apply(weights_init)\n",
        "\n",
        "# loop over the dataset n_epoch times\n",
        "n_epoch = 100\n",
        "# store the loss and the % correct at each epoch\n",
        "losses_train = np.zeros((n_epoch))\n",
        "errors_train = np.zeros((n_epoch))\n",
        "losses_val = np.zeros((n_epoch))\n",
        "errors_val = np.zeros((n_epoch))\n",
        "\n",
        "for epoch in range(n_epoch):\n",
        "  # loop over batches\n",
        "  for i, data in enumerate(data_loader):\n",
        "    # retrieve inputs and labels for this batch\n",
        "    x_batch, y_batch = data\n",
        "    # zero the parameter gradients\n",
        "    optimizer.zero_grad()\n",
        "    # forward pass -- calculate model output\n",
        "    pred = model(x_batch[:,None,:])\n",
        "    # compute the loss\n",
        "    loss = loss_function(pred, y_batch)\n",
        "    # backward pass\n",
        "    loss.backward()\n",
        "    # SGD update\n",
        "    optimizer.step()\n",
        "\n",
        "  # Run whole dataset to get statistics -- normally wouldn't do this\n",
        "  pred_train = model(x_train[:,None,:])\n",
        "  pred_val = model(x_val[:,None,:])\n",
        "  _, predicted_train_class = torch.max(pred_train.data, 1)\n",
        "  _, predicted_val_class = torch.max(pred_val.data, 1)\n",
        "  errors_train[epoch] = 100 - 100 * (predicted_train_class == y_train).float().sum() / len(y_train)\n",
        "  errors_val[epoch]= 100 - 100 * (predicted_val_class == y_val).float().sum() / len(y_val)\n",
        "  losses_train[epoch] = loss_function(pred_train, y_train).item()\n",
        "  losses_val[epoch]= loss_function(pred_val, y_val).item()\n",
        "  print(f'Epoch {epoch:5d}, train loss {losses_train[epoch]:.6f}, train error {errors_train[epoch]:3.2f},  val loss {losses_val[epoch]:.6f}, percent error {errors_val[epoch]:3.2f}')\n",
        "\n",
        "  # tell scheduler to consider updating learning rate\n",
        "  scheduler.step()\n",
        "\n",
        "# Plot the results\n",
        "fig, ax = plt.subplots()\n",
        "ax.plot(errors_train,'r-',label='train')\n",
        "ax.plot(errors_val,'b-',label='validation')\n",
        "ax.set_ylim(0,100); ax.set_xlim(0,n_epoch)\n",
        "ax.set_xlabel('Epoch'); ax.set_ylabel('Error')\n",
        "ax.set_title('Part I: Validation Result %3.2f'%(errors_val[-1]))\n",
        "ax.legend()\n",
        "plt.show()"
      ]
    }
  ],
  "metadata": {
    "colab": {
      "authorship_tag": "ABX9TyNb46PJB/CC1pcHGfjpUUZg",
      "include_colab_link": true,
      "provenance": []
    },
    "kernelspec": {
      "display_name": "Python 3",
      "name": "python3"
    },
    "language_info": {
      "codemirror_mode": {
        "name": "ipython",
        "version": 3
      },
      "file_extension": ".py",
      "mimetype": "text/x-python",
      "name": "python",
      "nbconvert_exporter": "python",
      "pygments_lexer": "ipython3",
      "version": "3.10.12"
    }
  },
  "nbformat": 4,
  "nbformat_minor": 0
}
